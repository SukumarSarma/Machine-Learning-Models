{
 "metadata": {
  "language_info": {
   "codemirror_mode": {
    "name": "ipython",
    "version": 3
   },
   "file_extension": ".py",
   "mimetype": "text/x-python",
   "name": "python",
   "nbconvert_exporter": "python",
   "pygments_lexer": "ipython3",
   "version": "3.8.1"
  },
  "orig_nbformat": 4,
  "kernelspec": {
   "name": "python3",
   "display_name": "Python 3.8.1 64-bit"
  },
  "interpreter": {
   "hash": "9ca38f495a207c95dbcf041f0d5d38d99addc861e7d368b47449e3e7a9824a44"
  }
 },
 "nbformat": 4,
 "nbformat_minor": 2,
 "cells": [
  {
   "cell_type": "code",
   "execution_count": 1,
   "source": [
    "import numpy as np \r\n",
    "import pandas as pd \r\n",
    "import matplotlib.pyplot as plt\r\n",
    "from sklearn.datasets import make_blobs"
   ],
   "outputs": [],
   "metadata": {}
  },
  {
   "cell_type": "code",
   "execution_count": 2,
   "source": [
    "data=make_blobs(n_samples=200,centers=4)\r\n",
    "data"
   ],
   "outputs": [
    {
     "output_type": "execute_result",
     "data": {
      "text/plain": [
       "(array([[ -7.66033482,   5.38878165],\n",
       "        [  3.98247633,   5.35477168],\n",
       "        [ -7.06745214,   6.62250847],\n",
       "        [ -6.58515265,   6.80235903],\n",
       "        [  3.7938217 ,   0.02920353],\n",
       "        [  2.81429237,   1.52905105],\n",
       "        [ -6.02977526,   7.64542245],\n",
       "        [ -6.36549434,   6.90156372],\n",
       "        [  2.60197868,   5.85628787],\n",
       "        [  3.5485097 ,   0.79805452],\n",
       "        [ -7.98121865,   6.54078094],\n",
       "        [  3.39608523,  -1.31406622],\n",
       "        [  3.41735684,   4.80987159],\n",
       "        [ -8.44738464,   6.95787617],\n",
       "        [ -6.45966625,   5.62623795],\n",
       "        [  3.49337671,  -2.24004813],\n",
       "        [  4.12350928,   1.57616352],\n",
       "        [  3.02884331,  -1.20763286],\n",
       "        [  4.69450976,  -0.59681135],\n",
       "        [ -8.47135937,   5.60170264],\n",
       "        [ -5.98936308,   8.71525405],\n",
       "        [  4.53505684,   6.59377495],\n",
       "        [-10.07203492,   6.60390451],\n",
       "        [  3.6604994 ,   6.56228229],\n",
       "        [ -6.29006505,   8.12180866],\n",
       "        [  3.91266592,   0.09727969],\n",
       "        [ -8.28703323,   7.86487964],\n",
       "        [ -6.57539875,   7.70229246],\n",
       "        [ -6.59054771,   5.71525397],\n",
       "        [ -5.54735551,   5.79810677],\n",
       "        [  3.89111589,   6.10878247],\n",
       "        [  3.39849018,   4.3501156 ],\n",
       "        [  3.84335127,   6.1872124 ],\n",
       "        [  3.79625543,   5.7574028 ],\n",
       "        [  4.15519146,   6.97124894],\n",
       "        [  3.44275799,   2.66104747],\n",
       "        [ -6.98964228,   7.70081702],\n",
       "        [  3.1576975 ,   6.69795678],\n",
       "        [ -5.48674243,   7.16258906],\n",
       "        [  4.67295963,   0.89284197],\n",
       "        [ -6.79460157,   7.18267676],\n",
       "        [ -9.09560761,   4.87873299],\n",
       "        [ -8.2132574 ,   7.4389422 ],\n",
       "        [ -7.42079672,   5.78695922],\n",
       "        [  3.45548723,   0.43412991],\n",
       "        [  3.97879929,   1.70777225],\n",
       "        [ -7.43781516,   7.41135231],\n",
       "        [  2.57860647,  -0.98692096],\n",
       "        [ -8.25167141,   5.31147152],\n",
       "        [ -5.59532337,   9.35057188],\n",
       "        [ -5.86928022,   6.57167741],\n",
       "        [  6.15856655,   4.55037159],\n",
       "        [  2.64237729,  -2.43605595],\n",
       "        [ -9.57600432,   6.23832977],\n",
       "        [  3.5202512 ,   4.77201773],\n",
       "        [  4.45305014,   1.45651017],\n",
       "        [  4.7076519 ,   0.70062116],\n",
       "        [  3.61814917,   5.42047495],\n",
       "        [ -4.32911029,   8.79404274],\n",
       "        [ -7.91326589,   5.08471567],\n",
       "        [ -8.10823695,   9.02741001],\n",
       "        [  3.41162713,  -0.04241704],\n",
       "        [ -6.08365413,   8.76431946],\n",
       "        [  4.32384374,   0.40656214],\n",
       "        [  3.58683693,   1.64375619],\n",
       "        [  2.90353677,   1.0398101 ],\n",
       "        [ -5.40916332,   8.99251127],\n",
       "        [  2.84715037,   0.58582767],\n",
       "        [  3.53042359,   3.29080825],\n",
       "        [ -8.88061273,   7.65565625],\n",
       "        [ -8.27803129,   8.17826302],\n",
       "        [  3.19183991,   1.39945304],\n",
       "        [ -6.07926751,   9.58489417],\n",
       "        [ -7.52743892,   6.08078036],\n",
       "        [  3.00616119,   5.68586707],\n",
       "        [  1.54110744,   0.93891636],\n",
       "        [ -7.81457448,   7.42694601],\n",
       "        [ -6.34986106,   7.84008679],\n",
       "        [ -6.82985535,   8.90511781],\n",
       "        [  3.9379198 ,   4.83482211],\n",
       "        [ -6.36803044,   6.17072411],\n",
       "        [  1.77976255,   6.03146006],\n",
       "        [  2.39960173,   4.41296446],\n",
       "        [ -6.81594286,   6.85936668],\n",
       "        [-10.47978379,   3.69521817],\n",
       "        [ -7.00997218,   8.40060837],\n",
       "        [  4.69746259,   5.43049501],\n",
       "        [  4.54947535,   0.93241557],\n",
       "        [ -8.44288251,   6.34163941],\n",
       "        [ -8.69209256,   4.78202662],\n",
       "        [  3.63488869,   0.15078545],\n",
       "        [  3.57280757,   0.64445647],\n",
       "        [  2.94294567,   5.59337896],\n",
       "        [ -8.09848753,   5.37564075],\n",
       "        [  3.40700448,   5.54924905],\n",
       "        [ -7.9241377 ,   4.63489027],\n",
       "        [ -6.51266563,   8.95934829],\n",
       "        [  3.15210566,  -0.21498461],\n",
       "        [ -6.74534043,  10.14958067],\n",
       "        [  5.31976949,   5.61825724],\n",
       "        [ -8.94424194,   5.49662606],\n",
       "        [ -5.85810145,   8.74842442],\n",
       "        [  3.80117796,   6.08262717],\n",
       "        [  3.23541457,   3.76249563],\n",
       "        [ -9.182948  ,   7.36751178],\n",
       "        [  4.37615794,   1.17726161],\n",
       "        [  2.78586708,   4.34511335],\n",
       "        [ -8.68720224,   4.24659833],\n",
       "        [  4.51040674,   6.66682863],\n",
       "        [  3.59250894,   4.11950309],\n",
       "        [  2.36030849,  -0.03423517],\n",
       "        [  3.17497861,   2.06243587],\n",
       "        [ -6.86228086,   7.59711894],\n",
       "        [ -5.58260537,   6.47807018],\n",
       "        [  2.60322889,   4.52792368],\n",
       "        [ -8.2611068 ,   5.91983943],\n",
       "        [  4.29776324,   0.05978093],\n",
       "        [  4.51516427,   0.88745087],\n",
       "        [ -8.6047921 ,   6.3130406 ],\n",
       "        [ -6.93846071,   8.91532075],\n",
       "        [  2.36763842,   5.33601128],\n",
       "        [  1.5680057 ,   5.86960769],\n",
       "        [  2.20370136,   3.98126684],\n",
       "        [  4.8181998 ,   6.44826892],\n",
       "        [ -6.9890846 ,   6.62735837],\n",
       "        [ -6.24459945,   7.76648091],\n",
       "        [ -5.87327966,   7.4805714 ],\n",
       "        [  2.01055324,   5.93976473],\n",
       "        [ -5.63695724,   6.87940066],\n",
       "        [  3.28690762,   4.46959964],\n",
       "        [  3.37632041,   0.35868103],\n",
       "        [ -5.51019997,   9.79716219],\n",
       "        [ -7.45482542,   8.4214602 ],\n",
       "        [  2.83827365,  -0.76411062],\n",
       "        [ -7.58663874,   8.19215436],\n",
       "        [  4.3127238 ,   0.10249847],\n",
       "        [ -9.61460226,   5.99759971],\n",
       "        [ -7.72805264,   5.62257647],\n",
       "        [ -5.10471723,   7.00701815],\n",
       "        [ -9.45835142,   5.28635138],\n",
       "        [ -7.42977874,   8.21908145],\n",
       "        [ -8.8769927 ,   6.16993097],\n",
       "        [ -8.43640148,   5.57980262],\n",
       "        [ -6.05383146,   7.24149092],\n",
       "        [ -9.32109065,   6.51500406],\n",
       "        [  2.63049944,   6.11764581],\n",
       "        [  4.46778657,   4.87536921],\n",
       "        [  4.10690601,   4.94267738],\n",
       "        [ -9.97648952,   6.60268422],\n",
       "        [  3.67891162,  -0.47509641],\n",
       "        [ -9.1871597 ,   5.79027154],\n",
       "        [ -7.10920224,   6.85016633],\n",
       "        [ -5.7524997 ,   8.64980652],\n",
       "        [ -5.38361927,   8.86006199],\n",
       "        [ -5.7046092 ,   9.59745979],\n",
       "        [ -8.56076007,   6.14014338],\n",
       "        [ -5.96032574,   9.42811427],\n",
       "        [  1.78713472,   3.81836538],\n",
       "        [  4.6537235 ,   4.62985154],\n",
       "        [  3.58568012,   1.19296302],\n",
       "        [ -8.41912567,   8.45088736],\n",
       "        [ -6.90890898,   8.05415192],\n",
       "        [ -8.15220603,   5.93724851],\n",
       "        [ -6.61045582,   7.25940264],\n",
       "        [  3.48912436,   0.21024992],\n",
       "        [  2.10032648,   5.95534011],\n",
       "        [  3.08330938,   4.92383978],\n",
       "        [-10.13162302,   4.51556721],\n",
       "        [  4.06217329,   4.78886112],\n",
       "        [ -9.55012812,   5.46517251],\n",
       "        [ -6.94963082,   7.13993094],\n",
       "        [  2.88464696,   6.60790739],\n",
       "        [  4.62264481,  -0.15627087],\n",
       "        [  3.67493789,   0.73538564],\n",
       "        [  3.10462662,   1.77617684],\n",
       "        [  3.3993198 ,   5.96501267],\n",
       "        [ -9.21704029,   6.04545844],\n",
       "        [ -7.51112856,   8.62442214],\n",
       "        [ -6.25362346,   8.21407207],\n",
       "        [  4.94922466,   3.32296599],\n",
       "        [ -8.86095188,   6.08805213],\n",
       "        [  3.56681084,  -0.80844248],\n",
       "        [  4.84584553,   6.19213066],\n",
       "        [ -7.99964067,   4.65675652],\n",
       "        [ -3.83432184,   7.56489157],\n",
       "        [  3.73579109,  -1.09241645],\n",
       "        [  3.81260417,  -0.80907945],\n",
       "        [ -7.89866493,   7.36237957],\n",
       "        [  2.47813302,   5.51569058],\n",
       "        [  4.86057035,   0.48935118],\n",
       "        [  3.54621219,   0.46070823],\n",
       "        [  3.62499949,  -0.54002801],\n",
       "        [  3.08952874,   3.91822777],\n",
       "        [  3.11462561,   1.30977218],\n",
       "        [ -7.75245533,   5.842707  ],\n",
       "        [ -7.39681203,   5.82916795],\n",
       "        [  4.21582955,   5.53276332],\n",
       "        [  3.88536794,   6.49634091],\n",
       "        [ -5.76612968,   8.2159864 ],\n",
       "        [ -8.32758786,   6.89747729]]),\n",
       " array([3, 2, 3, 3, 0, 0, 1, 1, 2, 0, 3, 0, 2, 3, 3, 0, 0, 0, 0, 3, 1, 2,\n",
       "        3, 2, 1, 0, 3, 1, 3, 1, 2, 2, 2, 2, 2, 0, 1, 2, 1, 0, 1, 3, 1, 3,\n",
       "        0, 0, 1, 0, 3, 1, 1, 2, 0, 3, 2, 0, 0, 2, 1, 3, 1, 0, 1, 0, 0, 0,\n",
       "        1, 0, 2, 1, 1, 0, 1, 3, 2, 0, 1, 1, 1, 2, 1, 2, 2, 1, 3, 1, 2, 0,\n",
       "        3, 3, 0, 0, 2, 3, 2, 3, 1, 0, 1, 2, 3, 1, 2, 2, 3, 0, 2, 3, 2, 2,\n",
       "        0, 0, 1, 1, 2, 3, 0, 0, 3, 1, 2, 2, 2, 2, 3, 1, 1, 2, 3, 2, 0, 1,\n",
       "        1, 0, 1, 0, 3, 3, 1, 3, 1, 3, 3, 1, 3, 2, 2, 2, 3, 0, 3, 3, 1, 1,\n",
       "        1, 3, 1, 2, 2, 0, 3, 1, 3, 1, 0, 2, 2, 3, 2, 3, 3, 2, 0, 0, 0, 2,\n",
       "        3, 1, 1, 0, 3, 0, 2, 3, 1, 0, 0, 3, 2, 0, 0, 0, 2, 0, 3, 3, 2, 2,\n",
       "        1, 3]))"
      ]
     },
     "metadata": {},
     "execution_count": 2
    }
   ],
   "metadata": {}
  },
  {
   "cell_type": "code",
   "execution_count": 3,
   "source": [
    "plt.scatter(data[0][:,0],data[0][:,1],c=data[1])"
   ],
   "outputs": [
    {
     "output_type": "execute_result",
     "data": {
      "text/plain": [
       "<matplotlib.collections.PathCollection at 0x21e3b5784c0>"
      ]
     },
     "metadata": {},
     "execution_count": 3
    },
    {
     "output_type": "display_data",
     "data": {
      "image/png": "[encoded data removed]",
      "text/plain": [
       "<Figure size 432x288 with 1 Axes>"
      ]
     },
     "metadata": {
      "needs_background": "light"
     }
    }
   ],
   "metadata": {}
  },
  {
   "cell_type": "code",
   "execution_count": 4,
   "source": [
    "from sklearn.cluster import KMeans"
   ],
   "outputs": [],
   "metadata": {}
  },
  {
   "cell_type": "code",
   "execution_count": 5,
   "source": [
    "kmean=KMeans(n_clusters=4)        #no. of k\r\n",
    "kmean.fit(data[0])"
   ],
   "outputs": [
    {
     "output_type": "execute_result",
     "data": {
      "text/plain": [
       "KMeans(n_clusters=4)"
      ]
     },
     "metadata": {},
     "execution_count": 5
    }
   ],
   "metadata": {}
  },
  {
   "cell_type": "code",
   "execution_count": 6,
   "source": [
    "kmean.cluster_centers_         #centroid"
   ],
   "outputs": [
    {
     "output_type": "execute_result",
     "data": {
      "text/plain": [
       "array([[ 3.61472965,  0.34140321],\n",
       "       [-6.47073347,  7.95175343],\n",
       "       [ 3.49374223,  5.32533086],\n",
       "       [-8.56807494,  5.81546812]])"
      ]
     },
     "metadata": {},
     "execution_count": 6
    }
   ],
   "metadata": {}
  },
  {
   "cell_type": "code",
   "execution_count": 7,
   "source": [
    "kmean.labels_                 #predicted labels"
   ],
   "outputs": [
    {
     "output_type": "execute_result",
     "data": {
      "text/plain": [
       "array([3, 2, 1, 1, 0, 0, 1, 1, 2, 0, 3, 0, 2, 3, 3, 0, 0, 0, 0, 3, 1, 2,\n",
       "       3, 2, 1, 0, 1, 1, 3, 1, 2, 2, 2, 2, 2, 0, 1, 2, 1, 0, 1, 3, 3, 3,\n",
       "       0, 0, 1, 0, 3, 1, 1, 2, 0, 3, 2, 0, 0, 2, 1, 3, 1, 0, 1, 0, 0, 0,\n",
       "       1, 0, 2, 3, 1, 0, 1, 3, 2, 0, 1, 1, 1, 2, 1, 2, 2, 1, 3, 1, 2, 0,\n",
       "       3, 3, 0, 0, 2, 3, 2, 3, 1, 0, 1, 2, 3, 1, 2, 2, 3, 0, 2, 3, 2, 2,\n",
       "       0, 0, 1, 1, 2, 3, 0, 0, 3, 1, 2, 2, 2, 2, 1, 1, 1, 2, 1, 2, 0, 1,\n",
       "       1, 0, 1, 0, 3, 3, 1, 3, 1, 3, 3, 1, 3, 2, 2, 2, 3, 0, 3, 1, 1, 1,\n",
       "       1, 3, 1, 2, 2, 0, 1, 1, 3, 1, 0, 2, 2, 3, 2, 3, 1, 2, 0, 0, 0, 2,\n",
       "       3, 1, 1, 2, 3, 0, 2, 3, 1, 0, 0, 1, 2, 0, 0, 0, 2, 0, 3, 3, 2, 2,\n",
       "       1, 3])"
      ]
     },
     "metadata": {},
     "execution_count": 7
    }
   ],
   "metadata": {}
  },
  {
   "cell_type": "code",
   "execution_count": 8,
   "source": [
    "data[1]                    #original labels"
   ],
   "outputs": [
    {
     "output_type": "execute_result",
     "data": {
      "text/plain": [
       "array([3, 2, 3, 3, 0, 0, 1, 1, 2, 0, 3, 0, 2, 3, 3, 0, 0, 0, 0, 3, 1, 2,\n",
       "       3, 2, 1, 0, 3, 1, 3, 1, 2, 2, 2, 2, 2, 0, 1, 2, 1, 0, 1, 3, 1, 3,\n",
       "       0, 0, 1, 0, 3, 1, 1, 2, 0, 3, 2, 0, 0, 2, 1, 3, 1, 0, 1, 0, 0, 0,\n",
       "       1, 0, 2, 1, 1, 0, 1, 3, 2, 0, 1, 1, 1, 2, 1, 2, 2, 1, 3, 1, 2, 0,\n",
       "       3, 3, 0, 0, 2, 3, 2, 3, 1, 0, 1, 2, 3, 1, 2, 2, 3, 0, 2, 3, 2, 2,\n",
       "       0, 0, 1, 1, 2, 3, 0, 0, 3, 1, 2, 2, 2, 2, 3, 1, 1, 2, 3, 2, 0, 1,\n",
       "       1, 0, 1, 0, 3, 3, 1, 3, 1, 3, 3, 1, 3, 2, 2, 2, 3, 0, 3, 3, 1, 1,\n",
       "       1, 3, 1, 2, 2, 0, 3, 1, 3, 1, 0, 2, 2, 3, 2, 3, 3, 2, 0, 0, 0, 2,\n",
       "       3, 1, 1, 0, 3, 0, 2, 3, 1, 0, 0, 3, 2, 0, 0, 0, 2, 0, 3, 3, 2, 2,\n",
       "       1, 3])"
      ]
     },
     "metadata": {},
     "execution_count": 8
    }
   ],
   "metadata": {}
  },
  {
   "cell_type": "code",
   "execution_count": 9,
   "source": [
    "plt.scatter(data[0][:,0],data[0][:,1],c=kmean.labels_)"
   ],
   "outputs": [
    {
     "output_type": "execute_result",
     "data": {
      "text/plain": [
       "<matplotlib.collections.PathCollection at 0x21e3bb5dfa0>"
      ]
     },
     "metadata": {},
     "execution_count": 9
    },
    {
     "output_type": "display_data",
     "data": {
      "image/png": "[encoded data removed]",
      "text/plain": [
       "<Figure size 432x288 with 1 Axes>"
      ]
     },
     "metadata": {
      "needs_background": "light"
     }
    }
   ],
   "metadata": {}
  },
  {
   "cell_type": "code",
   "execution_count": null,
   "source": [],
   "outputs": [],
   "metadata": {}
  }
 ]
}